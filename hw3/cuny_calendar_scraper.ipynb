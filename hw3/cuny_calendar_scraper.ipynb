{
  "cells": [
    {
      "cell_type": "markdown",
      "metadata": {},
      "source": [
        "# CUNY Fall 2021 Academic Calendar Scraper\n",
        "\n",
        "This notebook scrapes the CUNY Fall 2021 academic calendar from the CCNY registrar website and creates a pandas DataFrame with the calendar data.\n",
        "\n",
        "**Objective**: Create a DataFrame with:\n",
        "- Index: Python date objects\n",
        "- Column 'dow': Day of the week\n",
        "- Column 'text': Event description\n"
      ]
    },
    {
      "cell_type": "markdown",
      "metadata": {},
      "source": [
        "## Import Required Libraries\n"
      ]
    },
    {
      "cell_type": "code",
      "execution_count": 6,
      "metadata": {},
      "outputs": [],
      "source": [
        "import requests\n",
        "from bs4 import BeautifulSoup\n",
        "import pandas as pd\n",
        "from datetime import datetime\n",
        "import re\n"
      ]
    },
    {
      "cell_type": "markdown",
      "metadata": {},
      "source": [
        "## Scrape the Calendar Data\n"
      ]
    },
    {
      "cell_type": "code",
      "execution_count": 7,
      "metadata": {},
      "outputs": [
        {
          "name": "stdout",
          "output_type": "stream",
          "text": [
            "Status Code: 200\n",
            "Successfully retrieved the webpage!\n"
          ]
        }
      ],
      "source": [
        "# URL of the CUNY Fall 2021 academic calendar\n",
        "url = \"https://www.ccny.cuny.edu/registrar/fall\"\n",
        "\n",
        "# Send GET request to the website\n",
        "response = requests.get(url)\n",
        "print(f\"Status Code: {response.status_code}\")\n",
        "\n",
        "# Check if request was successful\n",
        "if response.status_code == 200:\n",
        "    print(\"Successfully retrieved the webpage!\")\n",
        "else:\n",
        "    print(f\"Failed to retrieve webpage. Status code: {response.status_code}\")\n"
      ]
    },
    {
      "cell_type": "code",
      "execution_count": 8,
      "metadata": {},
      "outputs": [
        {
          "name": "stdout",
          "output_type": "stream",
          "text": [
            "Found calendar table!\n",
            "Number of rows found: 37\n",
            "Row 0: 3 cells\n",
            "  Cell 0: DATES...\n",
            "  Cell 1: DAYS...\n",
            "  Cell 2: ...\n",
            "Row 1: 3 cells\n",
            "  Cell 0: August 01...\n",
            "  Cell 1: Sunday...\n",
            "  Cell 2: Application for degree for January and February 20...\n",
            "Row 2: 3 cells\n",
            "  Cell 0: August 18...\n",
            "  Cell 1: Wednesday...\n",
            "  Cell 2: Last day to apply for Study Abroad...\n"
          ]
        }
      ],
      "source": [
        "# Parse the HTML content\n",
        "soup = BeautifulSoup(response.content, 'html.parser')\n",
        "\n",
        "# Find the calendar table - looking for the table with calendar data\n",
        "table = soup.find('table')\n",
        "\n",
        "if table:\n",
        "    print(\"Found calendar table!\")\n",
        "    # Let's examine the table structure\n",
        "    rows = table.find_all('tr')\n",
        "    print(f\"Number of rows found: {len(rows)}\")\n",
        "    \n",
        "    # Print first few rows to understand structure\n",
        "    for i, row in enumerate(rows[:3]):\n",
        "        cells = row.find_all(['td', 'th'])\n",
        "        print(f\"Row {i}: {len(cells)} cells\")\n",
        "        for j, cell in enumerate(cells):\n",
        "            print(f\"  Cell {j}: {cell.get_text().strip()[:50]}...\")\n",
        "else:\n",
        "    print(\"No table found - let's examine the page structure\")\n",
        "    print(\"Page title:\", soup.title.get_text() if soup.title else \"No title found\")"
      ]
    },
    {
      "cell_type": "code",
      "execution_count": 9,
      "metadata": {},
      "outputs": [
        {
          "name": "stdout",
          "output_type": "stream",
          "text": [
            "Extracted 36 calendar entries\n",
            "\n",
            "Entry 1:\n",
            "  Date: August 01\n",
            "  Day: Sunday\n",
            "  Description: Application for degree for January and February 2022 begins...\n",
            "\n",
            "Entry 2:\n",
            "  Date: August 18\n",
            "  Day: Wednesday\n",
            "  Description: Last day to apply for Study Abroad...\n",
            "\n",
            "Entry 3:\n",
            "  Date: August 24\n",
            "  Day: Tuesday\n",
            "  Description: Last day of Registration;\n",
            "\t\t\tLast day to file ePermit for the Fall 2021;\n",
            "\t\t\tLast day to drop classes...\n",
            "\n",
            "Entry 4:\n",
            "  Date: August 25\n",
            "  Day: Wednesday\n",
            "  Description: Start of Fall Term;\n",
            "\t\t\tClasses begin;\n",
            "\t\t\tInitial Registration Appeals begin;...\n",
            "\n",
            "Entry 5:\n",
            "  Date: August 25 - 31\n",
            "  Day: Wednesday - Tuesday\n",
            "  Description: Change of program period; late fees apply...\n"
          ]
        }
      ],
      "source": [
        "## Extract Calendar Data\n",
        "\n",
        "# Extract calendar data from the table\n",
        "calendar_data = []\n",
        "\n",
        "if table:\n",
        "    rows = table.find_all('tr')\n",
        "    \n",
        "    # Skip header row and process data rows\n",
        "    for row in rows[1:]:  # Skip the header row\n",
        "        cells = row.find_all('td')\n",
        "        if len(cells) >= 3:  # Ensure we have at least 3 columns\n",
        "            date_text = cells[0].get_text().strip()\n",
        "            day_text = cells[1].get_text().strip()\n",
        "            description_text = cells[2].get_text().strip()\n",
        "            \n",
        "            # Only process rows with actual date information\n",
        "            if date_text and day_text and description_text:\n",
        "                calendar_data.append({\n",
        "                    'date_text': date_text,\n",
        "                    'day_text': day_text,\n",
        "                    'description': description_text\n",
        "                })\n",
        "\n",
        "print(f\"Extracted {len(calendar_data)} calendar entries\")\n",
        "\n",
        "# Display first few entries to verify\n",
        "for i, entry in enumerate(calendar_data[:5]):\n",
        "    print(f\"\\nEntry {i+1}:\")\n",
        "    print(f\"  Date: {entry['date_text']}\")\n",
        "    print(f\"  Day: {entry['day_text']}\")\n",
        "    print(f\"  Description: {entry['description'][:100]}...\")"
      ]
    }
  ],
  "metadata": {
    "kernelspec": {
      "display_name": "base",
      "language": "python",
      "name": "python3"
    },
    "language_info": {
      "codemirror_mode": {
        "name": "ipython",
        "version": 3
      },
      "file_extension": ".py",
      "mimetype": "text/x-python",
      "name": "python",
      "nbconvert_exporter": "python",
      "pygments_lexer": "ipython3",
      "version": "3.12.4"
    }
  },
  "nbformat": 4,
  "nbformat_minor": 2
}
