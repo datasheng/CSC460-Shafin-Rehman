{
  "cells": [
    {
      "cell_type": "markdown",
      "metadata": {},
      "source": [
        "# CUNY Fall 2021 Academic Calendar Scraper\n",
        "\n",
        "This notebook scrapes the CUNY Fall 2021 academic calendar from the CCNY registrar website and creates a pandas DataFrame with the calendar data.\n",
        "\n",
        "**Objective**: Create a DataFrame with:\n",
        "- Index: Python date objects\n",
        "- Column 'dow': Day of the week\n",
        "- Column 'text': Event description\n"
      ]
    },
    {
      "cell_type": "markdown",
      "metadata": {},
      "source": [
        "## Import Required Libraries\n"
      ]
    },
    {
      "cell_type": "code",
      "execution_count": 1,
      "metadata": {},
      "outputs": [],
      "source": [
        "import requests\n",
        "from bs4 import BeautifulSoup\n",
        "import pandas as pd\n",
        "from datetime import datetime\n",
        "import re\n"
      ]
    },
    {
      "cell_type": "markdown",
      "metadata": {},
      "source": [
        "## Scrape the Calendar Data\n"
      ]
    },
    {
      "cell_type": "code",
      "execution_count": 2,
      "metadata": {},
      "outputs": [
        {
          "name": "stdout",
          "output_type": "stream",
          "text": [
            "Status Code: 200\n",
            "Successfully retrieved the webpage!\n"
          ]
        }
      ],
      "source": [
        "# URL of the CUNY Fall 2021 academic calendar\n",
        "url = \"https://www.ccny.cuny.edu/registrar/fall\"\n",
        "\n",
        "# Send GET request to the website\n",
        "response = requests.get(url)\n",
        "print(f\"Status Code: {response.status_code}\")\n",
        "\n",
        "# Check if request was successful\n",
        "if response.status_code == 200:\n",
        "    print(\"Successfully retrieved the webpage!\")\n",
        "else:\n",
        "    print(f\"Failed to retrieve webpage. Status code: {response.status_code}\")\n"
      ]
    }
  ],
  "metadata": {
    "kernelspec": {
      "display_name": "base",
      "language": "python",
      "name": "python3"
    },
    "language_info": {
      "codemirror_mode": {
        "name": "ipython",
        "version": 3
      },
      "file_extension": ".py",
      "mimetype": "text/x-python",
      "name": "python",
      "nbconvert_exporter": "python",
      "pygments_lexer": "ipython3",
      "version": "3.12.4"
    }
  },
  "nbformat": 4,
  "nbformat_minor": 2
}
